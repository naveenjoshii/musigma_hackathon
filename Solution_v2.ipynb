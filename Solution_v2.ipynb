{
 "cells": [
  {
   "cell_type": "code",
   "execution_count": 1,
   "metadata": {},
   "outputs": [],
   "source": [
    "import numpy as np\n",
    "import pandas as pd"
   ]
  },
  {
   "cell_type": "code",
   "execution_count": 2,
   "metadata": {},
   "outputs": [],
   "source": [
    "data = pd.read_csv('cleaned_data.csv')"
   ]
  },
  {
   "cell_type": "code",
   "execution_count": 4,
   "metadata": {},
   "outputs": [
    {
     "data": {
      "text/plain": [
       "age                  73\n",
       "workclass             9\n",
       "fnlwgt            21648\n",
       "education            16\n",
       "education-num        16\n",
       "marital-status        7\n",
       "occupation           15\n",
       "relationship          6\n",
       "race                  5\n",
       "sex                   2\n",
       "capital-gain        119\n",
       "capital-loss         92\n",
       "hours-per-week       94\n",
       "country              41\n",
       "salary                2\n",
       "dtype: int64"
      ]
     },
     "execution_count": 4,
     "metadata": {},
     "output_type": "execute_result"
    }
   ],
   "source": [
    "data.nunique()"
   ]
  },
  {
   "cell_type": "code",
   "execution_count": 5,
   "metadata": {},
   "outputs": [],
   "source": [
    "X = data.drop(\"salary\", axis=1)\n",
    "y = data[\"salary\"]\n"
   ]
  },
  {
   "cell_type": "code",
   "execution_count": 14,
   "metadata": {},
   "outputs": [],
   "source": [
    "cols = data.columns"
   ]
  },
  {
   "cell_type": "code",
   "execution_count": 22,
   "metadata": {},
   "outputs": [
    {
     "data": {
      "text/plain": [
       "Index(['age', 'workclass', 'fnlwgt', 'education', 'education-num',\n",
       "       'marital-status', 'occupation', 'relationship', 'race', 'sex',\n",
       "       'capital-gain', 'capital-loss', 'hours-per-week', 'country', 'salary'],\n",
       "      dtype='object')"
      ]
     },
     "execution_count": 22,
     "metadata": {},
     "output_type": "execute_result"
    }
   ],
   "source": [
    "cols"
   ]
  },
  {
   "cell_type": "code",
   "execution_count": 17,
   "metadata": {},
   "outputs": [],
   "source": [
    "cat_cols = data.select_dtypes(exclude=\"number\").columns"
   ]
  },
  {
   "cell_type": "code",
   "execution_count": 20,
   "metadata": {},
   "outputs": [],
   "source": [
    "cat_cols = [i for i in range(0,len(cols)) if cols[i] in cat_cols]"
   ]
  },
  {
   "cell_type": "code",
   "execution_count": 21,
   "metadata": {},
   "outputs": [
    {
     "data": {
      "text/plain": [
       "[1, 3, 5, 6, 7, 8, 9, 13]"
      ]
     },
     "execution_count": 21,
     "metadata": {},
     "output_type": "execute_result"
    }
   ],
   "source": [
    "cat_cols"
   ]
  },
  {
   "cell_type": "code",
   "execution_count": 23,
   "metadata": {},
   "outputs": [],
   "source": [
    "from sklearn.model_selection import train_test_split\n",
    "\n",
    "X_train, X_test, y_train, y_test = train_test_split(X, y, test_size=0.2, random_state=0)\n"
   ]
  },
  {
   "cell_type": "code",
   "execution_count": 24,
   "metadata": {},
   "outputs": [
    {
     "name": "stdout",
     "output_type": "stream",
     "text": [
      "CatBoost model is fitted: True\n",
      "CatBoost model parameters:\n",
      "{'learning_rate': 0.1, 'iterations': 5}\n"
     ]
    }
   ],
   "source": [
    "from catboost import CatBoostClassifier\n",
    "\n",
    "clf = CatBoostClassifier(\n",
    "    iterations=5,\n",
    "    learning_rate=0.1,\n",
    ")\n",
    "\n",
    "\n",
    "clf.fit(X_train, y_train,\n",
    "        cat_features=cat_cols,\n",
    "        eval_set=(X_test, y_test),\n",
    "        verbose=False\n",
    "        )\n",
    "\n",
    "print('CatBoost model is fitted: ' + str(clf.is_fitted()))\n",
    "print('CatBoost model parameters:')\n",
    "print(clf.get_params())\n"
   ]
  },
  {
   "cell_type": "code",
   "execution_count": 29,
   "metadata": {},
   "outputs": [
    {
     "name": "stdout",
     "output_type": "stream",
     "text": [
      "Learning rate set to 0.388738\n",
      "0:\tlearn: 0.5243335\ttest: 0.5290848\tbest: 0.5290848 (0)\ttotal: 63.3ms\tremaining: 1.2s\n",
      "1:\tlearn: 0.4403290\ttest: 0.4475775\tbest: 0.4475775 (1)\ttotal: 125ms\tremaining: 1.12s\n",
      "2:\tlearn: 0.3926565\ttest: 0.4022230\tbest: 0.4022230 (2)\ttotal: 184ms\tremaining: 1.04s\n",
      "3:\tlearn: 0.3634062\ttest: 0.3740471\tbest: 0.3740471 (3)\ttotal: 253ms\tremaining: 1.01s\n",
      "4:\tlearn: 0.3453319\ttest: 0.3557421\tbest: 0.3557421 (4)\ttotal: 325ms\tremaining: 975ms\n",
      "5:\tlearn: 0.3297643\ttest: 0.3407475\tbest: 0.3407475 (5)\ttotal: 375ms\tremaining: 876ms\n",
      "6:\tlearn: 0.3206801\ttest: 0.3312787\tbest: 0.3312787 (6)\ttotal: 436ms\tremaining: 811ms\n",
      "7:\tlearn: 0.3142004\ttest: 0.3251179\tbest: 0.3251179 (7)\ttotal: 510ms\tremaining: 765ms\n",
      "8:\tlearn: 0.3098021\ttest: 0.3209506\tbest: 0.3209506 (8)\ttotal: 568ms\tremaining: 695ms\n",
      "9:\tlearn: 0.3058314\ttest: 0.3176975\tbest: 0.3176975 (9)\ttotal: 635ms\tremaining: 635ms\n",
      "10:\tlearn: 0.3034834\ttest: 0.3156067\tbest: 0.3156067 (10)\ttotal: 707ms\tremaining: 579ms\n",
      "11:\tlearn: 0.3017797\ttest: 0.3149558\tbest: 0.3149558 (11)\ttotal: 774ms\tremaining: 516ms\n",
      "12:\tlearn: 0.3003059\ttest: 0.3137726\tbest: 0.3137726 (12)\ttotal: 853ms\tremaining: 459ms\n",
      "13:\tlearn: 0.2979069\ttest: 0.3115681\tbest: 0.3115681 (13)\ttotal: 959ms\tremaining: 411ms\n",
      "14:\tlearn: 0.2967879\ttest: 0.3105341\tbest: 0.3105341 (14)\ttotal: 1.07s\tremaining: 358ms\n",
      "15:\tlearn: 0.2939209\ttest: 0.3082221\tbest: 0.3082221 (15)\ttotal: 1.15s\tremaining: 287ms\n",
      "16:\tlearn: 0.2921964\ttest: 0.3067398\tbest: 0.3067398 (16)\ttotal: 1.2s\tremaining: 212ms\n",
      "17:\tlearn: 0.2912446\ttest: 0.3058311\tbest: 0.3058311 (17)\ttotal: 1.26s\tremaining: 141ms\n",
      "18:\tlearn: 0.2902156\ttest: 0.3052141\tbest: 0.3052141 (18)\ttotal: 1.32s\tremaining: 69.5ms\n",
      "19:\tlearn: 0.2891410\ttest: 0.3039344\tbest: 0.3039344 (19)\ttotal: 1.39s\tremaining: 0us\n",
      "\n",
      "bestTest = 0.3039344279\n",
      "bestIteration = 19\n",
      "\n"
     ]
    },
    {
     "data": {
      "text/plain": [
       "<catboost.core.CatBoostClassifier at 0x1fb1f4171d0>"
      ]
     },
     "execution_count": 29,
     "metadata": {},
     "output_type": "execute_result"
    }
   ],
   "source": [
    "from catboost import CatBoostClassifier\n",
    "clf = CatBoostClassifier(\n",
    "    iterations=20,\n",
    "    #     verbose=5,\n",
    ")\n",
    "\n",
    "clf.fit(\n",
    "    X_train, y_train,\n",
    "    cat_features=cat_cols,\n",
    "    eval_set=(X_test, y_test),\n",
    ")\n"
   ]
  },
  {
   "cell_type": "code",
   "execution_count": 31,
   "metadata": {},
   "outputs": [
    {
     "name": "stdout",
     "output_type": "stream",
     "text": [
      "[[0.97928412 0.02071588]\n",
      " [0.95199638 0.04800362]\n",
      " [0.65683494 0.34316506]\n",
      " ...\n",
      " [0.00877222 0.99122778]\n",
      " [0.83526678 0.16473322]\n",
      " [0.58422268 0.41577732]]\n"
     ]
    }
   ],
   "source": [
    "print(clf.predict_proba(X_test))"
   ]
  },
  {
   "cell_type": "code",
   "execution_count": 33,
   "metadata": {},
   "outputs": [
    {
     "name": "stdout",
     "output_type": "stream",
     "text": [
      "[0 0 0 ... 1 0 0]\n"
     ]
    }
   ],
   "source": [
    "print(clf.predict(X_test))"
   ]
  },
  {
   "cell_type": "code",
   "execution_count": 34,
   "metadata": {},
   "outputs": [
    {
     "data": {
      "application/vnd.jupyter.widget-view+json": {
       "model_id": "8631651e6dbf4cf3861f36c61ccf7296",
       "version_major": 2,
       "version_minor": 0
      },
      "text/plain": [
       "MetricVisualizer(layout=Layout(align_self='stretch', height='500px'))"
      ]
     },
     "metadata": {},
     "output_type": "display_data"
    },
    {
     "data": {
      "text/plain": [
       "<catboost.core.CatBoostClassifier at 0x1fb2095f860>"
      ]
     },
     "execution_count": 34,
     "metadata": {},
     "output_type": "execute_result"
    }
   ],
   "source": [
    "from catboost import CatBoostClassifier\n",
    "\n",
    "clf = CatBoostClassifier(\n",
    "    iterations=50,\n",
    "    random_seed=42,\n",
    "    learning_rate=0.5,\n",
    "    custom_loss=['AUC', 'Accuracy']\n",
    ")\n",
    "\n",
    "clf.fit(\n",
    "    X_train, y_train,\n",
    "    cat_features=cat_cols,\n",
    "    eval_set=(X_test, y_test),\n",
    "    verbose=False,\n",
    "    plot=True\n",
    ")\n"
   ]
  },
  {
   "cell_type": "code",
   "execution_count": null,
   "metadata": {},
   "outputs": [],
   "source": []
  }
 ],
 "metadata": {
  "kernelspec": {
   "display_name": "Python 3.6.5 ('base')",
   "language": "python",
   "name": "python3"
  },
  "language_info": {
   "codemirror_mode": {
    "name": "ipython",
    "version": 3
   },
   "file_extension": ".py",
   "mimetype": "text/x-python",
   "name": "python",
   "nbconvert_exporter": "python",
   "pygments_lexer": "ipython3",
   "version": "3.6.5"
  },
  "orig_nbformat": 4,
  "vscode": {
   "interpreter": {
    "hash": "b1e6b76b6e736d29445d5c5f779c1dafb0f59893c5766b7198bc0a87a8e7acf4"
   }
  }
 },
 "nbformat": 4,
 "nbformat_minor": 2
}
